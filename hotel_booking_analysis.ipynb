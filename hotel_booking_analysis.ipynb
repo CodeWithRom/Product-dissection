{
  "nbformat": 4,
  "nbformat_minor": 0,
  "metadata": {
    "colab": {
      "private_outputs": true,
      "provenance": [],
      "collapsed_sections": [
        "mDgbUHAGgjLW"
      ],
      "include_colab_link": true
    },
    "kernelspec": {
      "name": "python3",
      "display_name": "Python 3"
    },
    "language_info": {
      "name": "python"
    }
  },
  "cells": [
    {
      "cell_type": "markdown",
      "metadata": {
        "id": "view-in-github",
        "colab_type": "text"
      },
      "source": [
        "<a href=\"https://colab.research.google.com/github/CodeWithRom/Product-dissection/blob/main/hotel_booking_analysis.ipynb\" target=\"_parent\"><img src=\"https://colab.research.google.com/assets/colab-badge.svg\" alt=\"Open In Colab\"/></a>"
      ]
    },
    {
      "cell_type": "markdown",
      "source": [
        "# **Project Name**    - Hotel Booking Analysis\n",
        "\n"
      ],
      "metadata": {
        "id": "vncDsAP0Gaoa"
      }
    },
    {
      "cell_type": "markdown",
      "source": [
        "##### **Project Type**    - Exploratory Data Analysis\n",
        "##### **Contribution**    - Individual"
      ],
      "metadata": {
        "id": "beRrZCGUAJYm"
      }
    },
    {
      "cell_type": "markdown",
      "source": [
        "# **Problem Statement**\n"
      ],
      "metadata": {
        "id": "yQaldy8SH6Dl"
      }
    },
    {
      "cell_type": "markdown",
      "source": [
        "BUSINESS PROBLEM OVERVIEW AND OBJECTIVE\n",
        "\n",
        "Hotel Booking Analysis is extremely important which focuses on exploring and analyzing booking information for both city and resort hotel. For any hotel businesses as it recognizes the clients who are likely to look for their best accommodation possible using the hotel service.\n",
        "\n",
        "The hotel booking analysis project In the hotel industry, its important to enhance the Customer Experience and Understanding the factors such as the length of stay, special requests, and preferences of guests can contribute to a better overall experience. Improving Marketing Efforts,Forecasting Demand-By examining historical booking data, hotels can forecast future demand more accurately. This enables better resource planning, ensuring that hotels are adequately staffed and prepared to meet the needs of guests during peak periods\n",
        "\n",
        "Optimizing Inventory Management-this involves adjusting room availability based on historical booking trends, minimizing overbooking or underutilization of rooms, and maximizing revenue per available room, Identifying Seasonal Trends,Enhancing Operational Efficiency-checkin,checkout ratios per day,Reducing Operational Costs-staff level adjustment based on the analysis.\n",
        "\n",
        "Analyzing data can help identify potential risks and challenges, allowing hotels to implement proactive measures.This includes preparing for high-demand events, managing cancellations effectively, and mitigating the impact of unforeseen circumstances. Hotels that leverage data analytics for booking analysis gain a competitive advantage. They can stay ahead of market trends, adapt quickly to changes, and continuously improve their services based on customer feedback and preferences."
      ],
      "metadata": {
        "id": "DpeJGUA3kjGy"
      }
    },
    {
      "cell_type": "markdown",
      "source": [
        "#**Data Summary and documentation**\n",
        "\n",
        "List of items available in the Dataset as columns -\n",
        "\n",
        "1.   hotel - type of hotel(H1 Resort Hotel /H2 City Hotel)\n",
        "2.   is_cancelled - If the hotel booking was cancelled (1) or not (0)\n",
        "3.   lead_time - Number of days between booking date and arrival date\n",
        "4.   arrival_date_year - year of arrival date\n",
        "5.   arrival_date_month- month of arrival date\n",
        "6.   arrival_date_week_number - week number for arrival date\n",
        "7.   arrival_date_day  - Day of arrival date\n",
        "8.   stays_in_weekend_nights - Number of weekend nights(saturday/sunday) the guest stayed or booked to stay at the hotel\n",
        "9.   stays_in_week_nights: Number of weekday nights stayed\n",
        "10.  adults: Number of adults\n",
        "11.  children: Number of children\n",
        "12.  babies: Number of babies\n",
        "13.  meal: Type of meal booked\n",
        "14.  country: Country of origin\n",
        "15.  market_segment - Which segment the customer belongs to (Online travel      Agenecy / Direct Walk in / Corporate / Offline TA.TO)\n",
        "16.  distribution_channel - how customer acccessed the stay (corporate / online Travel Agency /Direct walk in / travel Agency,Travel Office)\n",
        "17.  is_repeated_guest - guest coming for the first time or not\n",
        "18.  previous_cancellations- was there a cancellation before\n",
        "19.  previous_bookings_not_canceled - count of previous booking\n",
        "20.  reserved_room_type - type of room booked\n",
        "20.  assigned_room_type -type of room assigned\n",
        "21.  booking_changes - Count of changes made to booking\n",
        "22. deposit_type: Type of deposit made for the booking\n",
        "23. agent: ID of the travel agency\n",
        "25. company: ID of the company making the booking\n",
        "26. days_in_waiting_list: Number of days the booking was on the waiting list\n",
        "customer_type: Type of booking customer (e.g., transient, contract, group)\n",
        "27. adr: Average daily rate (i.e., average room revenue per paid occupied room)\n",
        "28. required_car_parking_spaces - If car parking is required\n",
        "29. total_of_special_requests - Number of additional special requirement\n",
        "30. reservation - reservation of status\n",
        "31. reservation_status_date- date of reservation\n",
        "\n"
      ],
      "metadata": {
        "id": "Mav9NIi3sC-V"
      }
    },
    {
      "cell_type": "markdown",
      "source": [
        "# **GitHub Link -**"
      ],
      "metadata": {
        "id": "w6K7xa23Elo4"
      }
    },
    {
      "cell_type": "markdown",
      "source": [
        "https://github.com/CodeWithRom/CodeWithRom/blob/46ea6f1d97811438d8ec5ccdb53bea57ef5a592e/hotel_booking_analysis1.ipynb"
      ],
      "metadata": {
        "id": "h1o69JH3Eqqn"
      }
    },
    {
      "cell_type": "markdown",
      "source": [
        "# **General Guidelines** : -  "
      ],
      "metadata": {
        "id": "mDgbUHAGgjLW"
      }
    },
    {
      "cell_type": "markdown",
      "source": [
        "1.   Well-structured, formatted, and commented code is required.\n",
        "2.   Exception Handling, Production Grade Code & Deployment Ready Code will be a plus. Those students will be awarded some additional credits.\n",
        "     \n",
        "     The additional credits will have advantages over other students during Star Student selection.\n",
        "       \n",
        "             [ Note: - Deployment Ready Code is defined as, the whole .ipynb notebook should be executable in one go\n",
        "                       without a single error logged. ]\n",
        "\n",
        "3.   Each and every logic should have proper comments.\n",
        "4. You may add as many number of charts you want. Make Sure for each and every chart the following format should be answered.\n",
        "        \n",
        "\n",
        "```\n",
        "# Chart visualization code\n",
        "```\n",
        "            \n",
        "\n",
        "*   Why did you pick the specific chart?\n",
        "*   What is/are the insight(s) found from the chart?\n",
        "* Will the gained insights help creating a positive business impact?\n",
        "Are there any insights that lead to negative growth? Justify with specific reason.\n",
        "\n",
        "5. You have to create at least 20 logical & meaningful charts having important insights"
      ],
      "metadata": {
        "id": "ZrxVaUj-hHfC"
      }
    },
    {
      "cell_type": "markdown",
      "source": [
        "# ***Let's Begin !***"
      ],
      "metadata": {
        "id": "O_i_v8NEhb9l"
      }
    },
    {
      "cell_type": "markdown",
      "source": [
        "## ***1. Lets Uderstand the Data***"
      ],
      "metadata": {
        "id": "I-4Ys1cVm4HX"
      }
    },
    {
      "cell_type": "markdown",
      "source": [
        "### Import Libraries"
      ],
      "metadata": {
        "id": "hkAgEknjm4Hy"
      }
    },
    {
      "cell_type": "code",
      "source": [
        "# Import Libraries\n",
        "import numpy as np\n",
        "import pandas as pd\n",
        "\n",
        "import seaborn as sns\n",
        "import matplotlib.pyplot as plt\n",
        "%matplotlib inline\n",
        "\n",
        "\n",
        "#Connecting Google Drive with the Colab\n",
        "from google.colab import drive\n",
        "drive.mount('/content/drive')\n",
        "\n",
        "from google.colab import files #importing files in colab from pc\n",
        "uploaded = files.upload()"
      ],
      "metadata": {
        "id": "XziABV6Tm4Hy"
      },
      "execution_count": null,
      "outputs": []
    },
    {
      "cell_type": "markdown",
      "source": [
        "### Dataset Loading"
      ],
      "metadata": {
        "id": "paGmJB4Am4Hz"
      }
    },
    {
      "cell_type": "code",
      "source": [
        "#Load Dataset\n",
        "# Read the CSV file into a DataFrame\n",
        "data = pd.read_csv('Hotel Bookings.csv')\n",
        "# Display the dataset\n",
        "df=pd.DataFrame(data)\n",
        "df"
      ],
      "metadata": {
        "id": "8M1uWbgrm4Hz"
      },
      "execution_count": null,
      "outputs": []
    },
    {
      "cell_type": "code",
      "source": [
        "df.columns"
      ],
      "metadata": {
        "id": "w5owZxgaEl79"
      },
      "execution_count": null,
      "outputs": []
    },
    {
      "cell_type": "code",
      "source": [
        "# Dataset First\n",
        "df.head()"
      ],
      "metadata": {
        "id": "WWXSwKRxm4H0"
      },
      "execution_count": null,
      "outputs": []
    },
    {
      "cell_type": "code",
      "source": [
        "df.tail()"
      ],
      "metadata": {
        "id": "HRbhVwcOEsUo"
      },
      "execution_count": null,
      "outputs": []
    },
    {
      "cell_type": "markdown",
      "source": [
        "### Dataset Information"
      ],
      "metadata": {
        "id": "fCBKs-iEm4H1"
      }
    },
    {
      "cell_type": "code",
      "source": [
        "# Dataset Info\n",
        "df.info()"
      ],
      "metadata": {
        "id": "3zPMTdr8m4H1"
      },
      "execution_count": null,
      "outputs": []
    },
    {
      "cell_type": "code",
      "source": [
        "df.describe() #statistical description of data"
      ],
      "metadata": {
        "id": "LXG9t1QGH2C_"
      },
      "execution_count": null,
      "outputs": []
    },
    {
      "cell_type": "markdown",
      "source": [
        "#### Missing Values/Null Values\n",
        "\n",
        "\n"
      ],
      "metadata": {
        "id": "X0WMiobGm4H1"
      }
    },
    {
      "cell_type": "code",
      "source": [
        "# Missing Values/Null Values Count\n",
        "print(df.isnull().sum())"
      ],
      "metadata": {
        "id": "En4GlKanm4H2"
      },
      "execution_count": null,
      "outputs": []
    },
    {
      "cell_type": "code",
      "source": [
        "# Replace the null values of “children” column by 0.\n",
        "df['children'].fillna(0, inplace = True)\n",
        "\n",
        "# Replace the null values in the “agent” column by mean of that column.\n",
        "df['agent'].fillna(df['agent'].mean(), inplace = True)\n",
        "\n",
        "# Drop the column \"company\" as it has more than 94% data missing\n",
        "df = df.drop(['company'],axis=1)\n",
        "\n",
        "# Country has 452 rows or 0.41% data missing which is negligible, hence we will remove these data.\n",
        "df = df.dropna(axis=0)\n",
        "\n",
        "# Ensure that all the null values get replace and there is no null values in any column\n",
        "df.isnull().sum()"
      ],
      "metadata": {
        "id": "SiEHYe2aCiPc"
      },
      "execution_count": null,
      "outputs": []
    },
    {
      "cell_type": "markdown",
      "source": [
        "### Check Unique Values for each variable."
      ],
      "metadata": {
        "id": "u3PMJOP6ngxN"
      }
    },
    {
      "cell_type": "code",
      "source": [
        "# Check Unique Values for each variable.\n",
        "for i in df.columns.tolist():\n",
        "  print(\"No. of unique values in\",i,\"is\",df[i].nunique())"
      ],
      "metadata": {
        "id": "zms12Yq5n-jE"
      },
      "execution_count": null,
      "outputs": []
    },
    {
      "cell_type": "markdown",
      "source": [
        "## ***4. Data Vizualization, Storytelling & Experimenting with charts : Understand the relationships between variables***"
      ],
      "metadata": {
        "id": "GF8Ens_Soomf"
      }
    },
    {
      "cell_type": "code",
      "source": [
        "#define a fucntion to get the total number of customers booking from each market segment for the given country\n",
        "def funtion_for_country(country):\n",
        "  #now filter the data of country\n",
        "  filter=df[df['country']==country]\n",
        "\n",
        "  #now count the filtered data from each market segment\n",
        "  total_count=filter['market_segment'].value_counts()\n",
        "\n",
        "  #now lets get the output\n",
        "  output=f\"Booking breakdown for {country}:\\n\"\n",
        "  for segment,count in total_count.items():\n",
        "    output+= f\"{segment} : {count} customers\\n\"\n",
        "  return output\n",
        "\n",
        "country_in=input('Enter Country :')\n",
        "output_result=funtion_for_country(country_in)\n",
        "print(output_result)"
      ],
      "metadata": {
        "id": "ybZwAPosZC-P"
      },
      "execution_count": null,
      "outputs": []
    },
    {
      "cell_type": "markdown",
      "source": [
        "#### Chart - 1"
      ],
      "metadata": {
        "id": "0wOQAZs5pc--"
      }
    },
    {
      "cell_type": "code",
      "source": [
        "# Write your code to make your dataset analysis ready.\n",
        "# Chart - 1 visualization code\n",
        "# Calculate correlation matrix\n",
        "numeric_columns = df.select_dtypes(include='number')\n",
        "correlation_matrix = numeric_columns.corr()\n",
        "#correlation_matrix = df.corr()\n",
        "plt.figure(figsize=(12, 8))\n",
        "sns.heatmap(correlation_matrix, annot=True, cmap='Reds', fmt='.2f')\n",
        "plt.title('Correlation Matrix')\n",
        "plt.show()"
      ],
      "metadata": {
        "id": "psJs9VCkw5Nh"
      },
      "execution_count": null,
      "outputs": []
    },
    {
      "cell_type": "markdown",
      "source": [
        "#### Chart - 2"
      ],
      "metadata": {
        "id": "KSlN3yHqYklG"
      }
    },
    {
      "cell_type": "code",
      "source": [
        "# Chart - 2 visualization code\n",
        "# Extract relevant columns\n",
        "demand_data = df[['arrival_date_week_number', 'stays_in_weekend_nights']]\n",
        "\n",
        "# Group by week number and calculate the mean demand for each week\n",
        "weekly_demand = demand_data.groupby('arrival_date_week_number')['stays_in_weekend_nights'].mean().reset_index()\n",
        "\n",
        "# Plot the demand trend over weeks\n",
        "plt.figure(figsize=(12, 6))\n",
        "plt.plot(weekly_demand['arrival_date_week_number'], weekly_demand['stays_in_weekend_nights'], marker='o')\n",
        "plt.title('Weekly Demand for Hotel Bookings')\n",
        "plt.xlabel('Week Number')\n",
        "plt.ylabel('Average Stays in Weekend Nights')\n",
        "plt.grid(True)\n",
        "plt.show()"
      ],
      "metadata": {
        "id": "R4YgtaqtYklH"
      },
      "execution_count": null,
      "outputs": []
    },
    {
      "cell_type": "markdown",
      "source": [
        "#### Chart - 3"
      ],
      "metadata": {
        "id": "EM7whBJCYoAo"
      }
    },
    {
      "cell_type": "code",
      "source": [
        "# Chart - 3 visualization code\n",
        "\n",
        "# Filter the data for canceled bookings\n",
        "canceled_bookings = df[df['is_canceled'] == 1]\n",
        "\n",
        "# Group by the 'arrival_date_year' and count the canceled bookings\n",
        "canceled_by_year = canceled_bookings.groupby('arrival_date_year')['is_canceled'].count()\n",
        "\n",
        "# Group by the 'arrival_date_year' and count the total bookings\n",
        "total_by_year = df.groupby('arrival_date_year')['is_canceled'].count()\n",
        "\n",
        "# Calculate the percentage of bookings canceled for each year\n",
        "percentage_canceled_by_year = (canceled_by_year / total_by_year) * 100\n",
        "\n",
        "# Plot a pie chart\n",
        "plt.figure(figsize=(8, 8))\n",
        "plt.pie(percentage_canceled_by_year, labels=percentage_canceled_by_year.index, autopct='%1.1f%%', startangle=90)\n",
        "plt.title('Percentage of Bookings Canceled by Year')\n",
        "plt.show()"
      ],
      "metadata": {
        "id": "t6GMdE67YoAp"
      },
      "execution_count": null,
      "outputs": []
    },
    {
      "cell_type": "markdown",
      "source": [
        "#### Chart - 4"
      ],
      "metadata": {
        "id": "4Of9eVA-YrdM"
      }
    },
    {
      "cell_type": "code",
      "source": [
        "# Chart - 4 visualization code\n",
        "#Data Exploration\n",
        "# Explore the distribution of hotel types\n",
        "hotel_distribution = df['hotel'].value_counts()\n",
        "\n",
        "# Plot a bar chart to visualize the distribution\n",
        "plt.figure(figsize=(8, 6))\n",
        "sns.barplot(x=hotel_distribution.index, y=hotel_distribution.values, palette='viridis')\n",
        "plt.title('Distribution of Hotel Types')\n",
        "plt.xlabel('Hotel Type')\n",
        "plt.ylabel('Count')\n",
        "plt.show()\n",
        "\n",
        "# Explore average lead time for each hotel type\n",
        "average_lead_time = df.groupby('hotel')['lead_time'].mean()\n",
        "\n",
        "# Plot a bar chart to visualize the average lead time\n",
        "plt.figure(figsize=(8, 6))\n",
        "sns.barplot(x=average_lead_time.index, y=average_lead_time.values, palette='mako')\n",
        "plt.title('Average Lead Time for Hotel Types')\n",
        "plt.xlabel('Hotel Type')\n",
        "plt.ylabel('Average Lead Time (days)')\n",
        "plt.show()\n",
        "\n",
        "# Explore cancellation rates for each hotel type\n",
        "cancellation_rates = df.groupby('hotel')['is_canceled'].mean()\n",
        "\n",
        "# Plot a bar chart to visualize cancellation rates\n",
        "plt.figure(figsize=(8, 6))\n",
        "sns.barplot(x=cancellation_rates.index, y=cancellation_rates.values, palette='rocket')\n",
        "plt.title('Cancellation Rates by Hotel Type')\n",
        "plt.xlabel('Hotel Type')\n",
        "plt.ylabel('Cancellation Rate')\n",
        "plt.show()\n"
      ],
      "metadata": {
        "id": "irlUoxc8YrdO"
      },
      "execution_count": null,
      "outputs": []
    },
    {
      "cell_type": "markdown",
      "source": [
        "#### Chart - 5"
      ],
      "metadata": {
        "id": "bamQiAODYuh1"
      }
    },
    {
      "cell_type": "code",
      "source": [
        "# Chart - 5 visualization code\n",
        "# Explore trends in a specific columnn\n",
        "monthly_trends = df['arrival_date_month'].value_counts().sort_index()\n",
        "\n",
        "# Plot trends with bar plot\n",
        "plt.figure(figsize=(18, 8))\n",
        "sns.countplot(data=df,x='arrival_date_month',order=monthly_trends.index, color='skyblue')\n",
        "plt.title('Monthly Arrival Trends')\n",
        "plt.xlabel('Month')\n",
        "plt.ylabel('Number of Bookings')\n",
        "\n",
        "plt.show()\n",
        "\n",
        "\n",
        "#Number of bookings done\n",
        "monthly_bookings = df['arrival_date_month'].value_counts()\n",
        "\n",
        "# Print the result\n",
        "print(\"Number of Bookings for Each Month:\")\n",
        "print(monthly_bookings)\n",
        "\n",
        "# Plot a bar chart to visualize the distribution of bookings for each month\n",
        "plt.figure(figsize=(12, 6))\n",
        "sns.barplot(x=monthly_bookings.index, y=monthly_bookings.values, palette='viridis')\n",
        "plt.title('Number of Bookings for Each Month')\n",
        "plt.xlabel('Month')\n",
        "plt.ylabel('Number of Bookings')\n",
        "plt.show()\n",
        "\n",
        "# Calculate revenue per available room (RevPAR)\n",
        "df['revenue_per_room'] = df['adr'] * (1 - df['is_canceled'])\n",
        "revpar = df.groupby('arrival_date_month')['revenue_per_room'].mean()\n",
        "\n",
        "# Plot RevPAR over time\n",
        "plt.figure(figsize=(12, 6))\n",
        "sns.lineplot(x=revpar.index, y=revpar.values)\n",
        "plt.title('Monthly Revenue per Available Room (RevPAR)')\n",
        "plt.xlabel('Month')\n",
        "plt.ylabel('RevPAR')\n",
        "plt.show()\n",
        "\n",
        "#forecasting Demand\n",
        "\n",
        "# Create a pivot table\n",
        "pivot_table1 = pd.pivot_table(df, values='is_canceled', index='market_segment', columns='arrival_date_year', aggfunc=['sum'], fill_value=0)\n",
        "\n",
        "# Print the pivot table\n",
        "print(\"  Pivot Table - total number of Cancellations :\")\n",
        "print(\"\\n\",pivot_table1)\n",
        "\n",
        "# Create a pivot table for demand by market segment and arrival date\n",
        "demand_pivot = pd.pivot_table(df, values='is_canceled', index='arrival_date_month', columns='market_segment', aggfunc='count', fill_value=0)\n",
        "\n",
        "# Plot the line chart\n",
        "plt.figure(figsize=(15, 8))\n",
        "sns.lineplot(data=demand_pivot, dashes=False)\n",
        "plt.title('Demand by Market Segment Over Time')\n",
        "plt.xlabel('Arrival Date')\n",
        "plt.ylabel('Number of Bookings')\n",
        "plt.legend(title='Market Segment', bbox_to_anchor=(1.05, 1), loc='upper left')\n",
        "plt.xticks(rotation=45)\n",
        "plt.show()\n",
        "\n",
        "\n",
        "seasonal_demand = df.pivot_table(index='arrival_date_month', columns='arrival_date_day_of_month', values='is_canceled', aggfunc='count')\n",
        "\n",
        "plt.figure(figsize=(14, 8))\n",
        "sns.heatmap(seasonal_demand, cmap='YlGnBu', annot=True, fmt='g', cbar_kws={'label': 'Demand'})\n",
        "plt.title('Seasonal Demand Variation')\n",
        "plt.xlabel('Day of Month')\n",
        "plt.ylabel('Month')\n",
        "plt.show()\n",
        "\n",
        "plt.figure(figsize=(10, 6))\n",
        "channel_demand = df.groupby('distribution_channel')['is_canceled'].count().sort_values(ascending=False)\n",
        "sns.barplot(x=channel_demand.index, y=channel_demand.values, ci=None)\n",
        "plt.title('Booking Channel Contribution to Demand')\n",
        "plt.xlabel('Distribution Channel')\n",
        "plt.ylabel('Demand')\n",
        "plt.xticks(rotation=45)\n",
        "plt.show()\n"
      ],
      "metadata": {
        "id": "TIJwrbroYuh3"
      },
      "execution_count": null,
      "outputs": []
    },
    {
      "cell_type": "markdown",
      "source": [
        "#### Chart - 6"
      ],
      "metadata": {
        "id": "OH-pJp9IphqM"
      }
    },
    {
      "cell_type": "code",
      "source": [
        "# Chart - 6 visualization code\n",
        "# Convert 'arrival_date_month' to categorical for proper ordering in the visualization\n",
        "df['arrival_date_month'] = pd.Categorical(df['arrival_date_month'],categories=['January', 'February', 'March', 'April', 'May', 'June', 'July', 'August', 'September', 'October', 'November', 'December'], ordered=True)\n",
        "\n",
        "# Line chart: Impact of seasonality on average daily rate (adr)\n",
        "plt.figure(figsize=(12, 6))\n",
        "sns.lineplot(data=df, x='arrival_date_month', y='adr')\n",
        "plt.title('Impact of Seasonality on Average Daily Rate (ADR)')\n",
        "plt.xlabel('Month')\n",
        "plt.ylabel('Average Daily Rate (ADR)')\n",
        "plt.xticks(rotation=45)\n",
        "plt.show()\n",
        "\n",
        "# Bar chart: Impact of length of stay on average daily rate (adr)\n",
        "df['total_nights'] = df['stays_in_week_nights']+df['stays_in_weekend_nights']\n",
        "\n",
        "plt.figure(figsize=(15, 8))\n",
        "sns.barplot(x='total_nights', y='adr', data=df, palette='Set1')\n",
        "plt.title('Impact of Length of Stay on Average Daily Rate (ADR)')\n",
        "plt.xlabel('Number of Nights')\n",
        "plt.ylabel('Average Daily Rate (ADR)')\n",
        "plt.show()\n",
        "\n",
        "\n",
        "# Bar plot: Impact of customer type on average daily rate (adr)\n",
        "plt.figure(figsize=(10, 6))\n",
        "ax = sns.barplot(x='adr', y='customer_type', data=df, errorbar=None, palette='pastel')\n",
        "plt.title('Impact of Customer Type on Average Daily Rate (ADR)')\n",
        "plt.xlabel('Average Daily Rate (ADR)')\n",
        "plt.ylabel('Customer Type')\n",
        "# Add annotations\n",
        "for p in ax.patches:\n",
        "    ax.annotate(f'{p.get_width():.2f}', (p.get_width(), p.get_y() + p.get_height() / 2),ha='center', va='center', xytext=(5, 0), textcoords='offset points')\n",
        "plt.show()"
      ],
      "metadata": {
        "id": "kuRf4wtuphqN"
      },
      "execution_count": null,
      "outputs": []
    },
    {
      "cell_type": "markdown",
      "source": [
        "#### Chart - 7"
      ],
      "metadata": {
        "id": "PIIx-8_IphqN"
      }
    },
    {
      "cell_type": "code",
      "source": [
        "# Chart - 7 visualization code\n",
        "\n",
        "# Boxplot: Lead time distribution for different stay durations\n",
        "plt.figure(figsize=(10, 6))\n",
        "sns.boxplot(x='stays_in_week_nights', y='lead_time', data=df)\n",
        "plt.title('Lead Time Distribution for Different Stay Durations')\n",
        "plt.xlabel('Number of Week Nights')\n",
        "plt.ylabel('Lead Time (days)')\n",
        "plt.show()\n",
        "\n",
        "# Calculate correlation between lead time and adr\n",
        "correlation_lead_time_adr = df['lead_time'].corr(df['adr'])\n",
        "print(f\"Correlation between Lead Time and ADR: {correlation_lead_time_adr}\")\n",
        "\n",
        "# Calculate total revenue for each lead time category\n",
        "df['total_revenue'] = df['adr'] * (df['stays_in_week_nights'] + 1)  # Assuming 1 extra night for calculation\n",
        "revenue_by_lead_time = df.groupby('lead_time')['total_revenue'].sum().reset_index()\n",
        "\n",
        "# Line chart: Impact of lead time on total revenue\n",
        "plt.figure(figsize=(10, 6))\n",
        "sns.lineplot(x='lead_time', y='total_revenue', data=revenue_by_lead_time)\n",
        "plt.title('Impact of Lead Time on Total Revenue')\n",
        "plt.xlabel('Lead Time (days)')\n",
        "plt.ylabel('Total Revenue')\n",
        "plt.show()\n"
      ],
      "metadata": {
        "id": "lqAIGUfyphqO"
      },
      "execution_count": null,
      "outputs": []
    },
    {
      "cell_type": "markdown",
      "source": [
        "#### Chart - 8"
      ],
      "metadata": {
        "id": "BZR9WyysphqO"
      }
    },
    {
      "cell_type": "code",
      "source": [
        "# Chart - 8 visualization code\n",
        "#Visualization 1: Length of Stay Distribution\n",
        "df['total']=df['stays_in_weekend_nights'] + df['stays_in_week_nights']\n",
        "# Distribution of length of stay\n",
        "plt.figure(figsize=(10, 6))\n",
        "sns.histplot(df['total'], bins=20, kde=True)\n",
        "plt.title('Distribution of Length of Stay')\n",
        "plt.xlabel('Length of Stay (Nights)')\n",
        "plt.ylabel('Frequency')\n",
        "plt.show()\n",
        "#This visualization gives you insights into the distribution of the length of stay, combining weekend and week nights.\n",
        "\n",
        "#Visualization 2: Special Requests Analysis\n",
        "\n",
        "# Countplot for special requests\n",
        "plt.figure(figsize=(8, 5))\n",
        "sns.countplot(x='total_of_special_requests', data=df, palette='viridis')\n",
        "plt.title('Distribution of Special Requests')\n",
        "plt.xlabel('Number of Special Requests')\n",
        "plt.ylabel('Frequency')\n",
        "plt.show()\n",
        "#This countplot shows the distribution of the total number of special requests made by guests.\n",
        "\n",
        "#Visualization 3: Guest Preferences Analysis\n",
        "\n",
        "# Countplot for meal preferences\n",
        "plt.figure(figsize=(8, 5))\n",
        "sns.countplot(x='meal', data=df, palette='Set2')\n",
        "plt.title('Meal Preferences of Guests')\n",
        "plt.xlabel('Meal Type')\n",
        "plt.ylabel('Frequency')\n",
        "plt.show()\n",
        "#This countplot displays the distribution of meal preferences (BB, SC, HB) among guests.\n",
        "\n",
        "#Analysis 1: Average Length of Stay by Customer Type\n",
        "# Boxplot for average length of stay by customer type\n",
        "\n",
        "plt.figure(figsize=(10, 6))\n",
        "sns.boxplot(x='customer_type', y='total', data=df)\n",
        "plt.title('Average Length of Stay by Customer Type')\n",
        "plt.xlabel('Customer Type')\n",
        "plt.ylabel('Length of Stay (total Nights)')\n",
        "plt.show()\n",
        "\n",
        "#Analysis 2: Impact of Required Car Parking Spaces on ADR for Different Customer Types\n",
        "\n",
        "plt.figure(figsize=(12, 8))\n",
        "sns.barplot(x='customer_type', y='adr', hue='required_car_parking_spaces', data=df, errorbar=None, palette='viridis')\n",
        "plt.title('Impact of Required Car Parking Spaces on ADR for Different Customer Types')\n",
        "plt.xlabel('Customer Type')\n",
        "plt.ylabel('Average Daily Rate (ADR)')\n",
        "plt.legend(title='Required Parking Spaces', loc='upper right', bbox_to_anchor=(1.2, 1))\n",
        "plt.show()\n"
      ],
      "metadata": {
        "id": "TdPTWpAVphqO"
      },
      "execution_count": null,
      "outputs": []
    },
    {
      "cell_type": "markdown",
      "source": [
        "#### Chart - 9"
      ],
      "metadata": {
        "id": "YJ55k-q6phqO"
      }
    },
    {
      "cell_type": "code",
      "source": [
        "# Chart - 9 visualization code\n",
        "#. Check-in/Check-out Processes Analysis:\n",
        "#Enhancing Operational Efficiency: By understanding the factors influencing the booking process, hotels can streamline their operations.\n",
        "#This includes optimizing check-in/check-out processes, allocating resources efficiently, and ensuring that staff is well-prepared for busy periods.\n",
        "\n",
        "# Visualize the distribution of lead time (time between booking and check-in)\n",
        "plt.figure(figsize=(10, 6))\n",
        "sns.histplot(df['lead_time'], bins=20, kde=True)\n",
        "plt.title('Distribution of Lead Time')\n",
        "plt.xlabel('Lead Time (Days)')\n",
        "plt.ylabel('Frequency')\n",
        "plt.show()\n",
        "#This visualization helps understand the lead time distribution, which can influence the efficiency of check-in/check-out processes.\n",
        "\n",
        "#2. Resource Allocation:\n",
        "\n",
        "# Visualize the distribution of total guests (adults + children + babies)\n",
        "df['total_guests'] = df['adults'] + df['children'] + df['babies']\n",
        "\n",
        "plt.figure(figsize=(10, 6))\n",
        "sns.histplot(df['total_guests'], bins=20, kde=True)\n",
        "plt.title('Distribution of Total Guests')\n",
        "plt.xlabel('Number of Guests')\n",
        "plt.ylabel('Frequency')\n",
        "plt.show()\n",
        "#This visualization provides insights into the distribution of the total number of guests, helping in resource allocation planning.\n",
        "\n",
        "#3. Busy Period Preparation:\n",
        "\n",
        "#this visiualization helps to know the the\n",
        "# Assuming df is your DataFrame\n",
        "df['arrival_date'] = pd.to_datetime(df['arrival_date_year'].astype(str) + '-' + df['arrival_date_month'].astype(str) + '-' + df['arrival_date_day_of_month'].astype(str))\n",
        "df['day_of_week'] = df['arrival_date'].dt.day_name()\n",
        "\n",
        "plt.figure(figsize=(10, 6))\n",
        "sns.countplot(x='day_of_week', data=df, order=df['day_of_week'].value_counts().index, palette='viridis')\n",
        "plt.title('Number of Bookings for Each Day of the Week')\n",
        "plt.xlabel('Day of the Week')\n",
        "plt.ylabel('Number of Bookings')\n",
        "plt.show()"
      ],
      "metadata": {
        "id": "B2aS4O1ophqO"
      },
      "execution_count": null,
      "outputs": []
    },
    {
      "cell_type": "markdown",
      "source": [
        "#### Chart - 10"
      ],
      "metadata": {
        "id": "U2RJ9gkRphqQ"
      }
    },
    {
      "cell_type": "code",
      "source": [
        "# Chart - 10 visualization code\n",
        "\n",
        "# Visualize monthly booking trends for demand forecasting\n",
        "monthly_bookings = df.groupby(['arrival_date_year', 'arrival_date_month']).size().reset_index(name='count')\n",
        "\n",
        "plt.figure(figsize=(12, 6))\n",
        "sns.lineplot(x='arrival_date_month', y='count', hue='arrival_date_year', data=monthly_bookings)\n",
        "plt.title('Monthly Booking Trends for Demand Forecasting')\n",
        "plt.xlabel('Month')\n",
        "plt.ylabel('Number of Bookings')\n",
        "plt.show()\n",
        "\n",
        "#This visualization helps in understanding the monthly booking trends, aiding in demand forecasting and resource planning.\n",
        "\n",
        "#2. Staffing Levels and Labor Costs:\n",
        "\n",
        "# Calculate total staff based on the number of adults, children, and babies\n",
        "df['total_staff'] = df['adults'] + df['children'] + df['babies']\n",
        "\n",
        "# Visualize the total staff needed over time\n",
        "staff_over_time = df.groupby(['arrival_date_year', 'arrival_date_month'])['total_staff'].sum().reset_index()\n",
        "\n",
        "plt.figure(figsize=(12, 6))\n",
        "sns.lineplot(x='arrival_date_month', y='total_staff', hue='arrival_date_year', data=staff_over_time)\n",
        "plt.title('Total Staff Needed Over Time')\n",
        "plt.xlabel('Month')\n",
        "plt.ylabel('Total Staff')\n",
        "plt.show()\n",
        "#This visualization helps in understanding the variation in staffing levels over time.\n",
        "\n",
        "#3. Labor Cost Analysis:\n",
        "\n",
        "# Calculate labor costs based on staff levels and average cost per staff member\n",
        "average_cost_per_staff = 100  # Placeholder value, replace with actual cost\n",
        "df['labor_costs'] = df['total_staff'] * average_cost_per_staff\n",
        "\n",
        "# Visualize labor costs over time\n",
        "labor_costs_over_time = df.groupby(['arrival_date_year', 'arrival_date_month'])['labor_costs'].sum().reset_index()\n",
        "\n",
        "plt.figure(figsize=(12, 6))\n",
        "sns.lineplot(x='arrival_date_month', y='labor_costs', hue='arrival_date_year', data=labor_costs_over_time)\n",
        "plt.title('Labor Costs Over Time')\n",
        "plt.xlabel('Month')\n",
        "plt.ylabel('Labor Costs')\n",
        "plt.show()\n",
        "#This visualization helps in understanding the variation in labor costs over time based on staffing levels.\n",
        "\n",
        "#4. Occupancy Rate Analysis:\n",
        "# Calculate occupancy rate based on booked rooms\n",
        "df['occupancy_rate'] = 1 - df['is_canceled']\n",
        "\n",
        "# Visualize occupancy rate over time\n",
        "occupancy_rate_over_time = df.groupby(['arrival_date_year', 'arrival_date_month'])['occupancy_rate'].mean().reset_index()\n",
        "\n",
        "plt.figure(figsize=(12, 6))\n",
        "sns.lineplot(x='arrival_date_month', y='occupancy_rate', hue='arrival_date_year', data=occupancy_rate_over_time)\n",
        "plt.title('Occupancy Rate Over Time')\n",
        "plt.xlabel('Month')\n",
        "plt.ylabel('Occupancy Rate')\n",
        "plt.show()"
      ],
      "metadata": {
        "id": "GM7a4YP4phqQ"
      },
      "execution_count": null,
      "outputs": []
    },
    {
      "cell_type": "markdown",
      "source": [
        "#### Chart - 11"
      ],
      "metadata": {
        "id": "quDZHGj83-Ur"
      }
    },
    {
      "cell_type": "code",
      "source": [
        "#Demographic Distribution: Stacked Bar Chart\n",
        "\n",
        "\n",
        "plt.figure(figsize=(12, 8))\n",
        "sns.countplot(x='customer_type', hue='market_segment', data=df, palette='Set2')\n",
        "plt.title('Demographic Distribution by Customer Type and Market Segment')\n",
        "plt.xlabel('Customer Type')\n",
        "plt.ylabel('Count')\n",
        "plt.legend(title='Market Segment', loc='upper right', bbox_to_anchor=(1.2, 1))\n",
        "plt.show()\n",
        "\n",
        "#This chart reveals the distribution of market segments within each customer type, helping identify which segments are more prevalent among different types of guests.\n",
        "\n",
        "#Booking Trends Over Time: Line Chart\n",
        "plt.figure(figsize=(12, 6))\n",
        "df['reservation_date'] = pd.to_datetime(df['reservation_status_date'])\n",
        "df['reservation_year_month'] = df['reservation_date'].dt.to_period('M')\n",
        "booking_trends = df.groupby('reservation_year_month')['is_canceled'].count()\n",
        "booking_trends.plot(kind='line', marker='o', color='skyblue')\n",
        "plt.title('Booking Trends Over Time')\n",
        "plt.xlabel('Year-Month')\n",
        "plt.ylabel('Number of Bookings')\n",
        "plt.show()\n",
        "\n",
        "#This line chart illustrates booking trends over time, helping identify peak periods and seasonality for targeted marketing campaigns.\n",
        "\n",
        "#Source of Bookings: Pie Chart\n",
        "plt.figure(figsize=(15, 12))\n",
        "source_counts = df['distribution_channel'].value_counts()\n",
        "plt.pie(source_counts, labels=source_counts.index, autopct='%1.1f%%', startangle=90, colors=sns.color_palette('pastel'))\n",
        "plt.title('Distribution of Booking Sources')\n",
        "plt.show()\n",
        "\n",
        "#A pie chart depicting the distribution of booking sources helps allocate marketing resources effectively, emphasizing channels that contribute most to bookings.\n",
        "\n",
        "#Market Segment Analysis: Box Plot\n",
        "plt.figure(figsize=(12, 8))\n",
        "sns.boxplot(x='market_segment', y='adr', data=df, palette='viridis')\n",
        "plt.title('ADR Distribution Across Market Segments')\n",
        "plt.xlabel('Market Segment')\n",
        "plt.ylabel('Average Daily Rate (ADR)')\n",
        "plt.show()"
      ],
      "metadata": {
        "id": "EYdY3Hpa3-VF"
      },
      "execution_count": null,
      "outputs": []
    },
    {
      "cell_type": "markdown",
      "source": [
        "#### Chart - 12"
      ],
      "metadata": {
        "id": "F68j3i_323E4"
      }
    },
    {
      "cell_type": "code",
      "source": [
        "#Risk management\n",
        "\n",
        "# Create a pivot table for cancellations by month and year\n",
        "cancellation_pivot = pd.pivot_table(df[df['is_canceled'] == 1], values='is_canceled', index='arrival_date_month', columns='arrival_date_year', aggfunc='count', fill_value=0)\n",
        "\n",
        "# Plot the line chart\n",
        "plt.figure(figsize=(12, 8))\n",
        "sns.lineplot(data=cancellation_pivot, markers=True)\n",
        "plt.title('Monthly Cancellation Trend Over Years')\n",
        "plt.xlabel('Month')\n",
        "plt.ylabel('Number of Cancellations')\n",
        "plt.show()\n",
        "\n",
        "#Lead Time Distribution for Canceled Bookings:\n",
        "\n",
        "#A histogram illustrating the distribution of lead times for canceled bookings can reveal patterns related to how far in advance customers tend to cancel their reservations.\n",
        "\n",
        "\n",
        "plt.figure(figsize=(10, 6))\n",
        "sns.histplot(df[df['is_canceled'] == 1]['lead_time'], bins=20, kde=True)\n",
        "plt.title('Lead Time Distribution for Canceled Bookings')\n",
        "plt.xlabel('Lead Time (days)')\n",
        "plt.ylabel('Frequency')\n",
        "plt.show()\n",
        "\n",
        "#Booking Changes and Cancellation Correlation:\n",
        "\n",
        "#A violine plot  showing the correlation between the number of booking changes and the likelihood of cancellation can highlight potential correlations. This can help in identifying patterns where frequent changes may lead to increased cancellations.\n",
        "\n",
        "plt.figure(figsize=(10, 8))\n",
        "sns.violinplot(x='is_canceled', y='booking_changes', data=df)\n",
        "plt.title('Distribution of Booking Changes for Canceled vs. Not Canceled Bookings')\n",
        "plt.xlabel('Cancellation Status (1: Canceled, 0: Not Canceled)')\n",
        "plt.ylabel('Number of Booking Changes')\n",
        "plt.show()\n",
        "\n",
        "\n",
        "unforeseen_impact = df[df['days_in_waiting_list'] > 0].pivot_table(index='arrival_date_month', columns='arrival_date_day_of_month', values='is_canceled', aggfunc='count')\n",
        "\n",
        "plt.figure(figsize=(14, 8))\n",
        "sns.heatmap(unforeseen_impact, cmap='YlGnBu', annot=True, fmt='g', cbar_kws={'label': 'Cancellations'})\n",
        "plt.title('Impact of Unforeseen Circumstances on Bookings')\n",
        "plt.xlabel('Day of Month')\n",
        "plt.ylabel('Month')\n",
        "plt.show()\n",
        "\n"
      ],
      "metadata": {
        "id": "4fvyA7DB23FM"
      },
      "execution_count": null,
      "outputs": []
    }
  ]
}